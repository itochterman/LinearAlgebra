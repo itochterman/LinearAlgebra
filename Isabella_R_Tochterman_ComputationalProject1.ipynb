{
  "nbformat": 4,
  "nbformat_minor": 0,
  "metadata": {
    "colab": {
      "name": "Isabella R Tochterman - ComputationalProject1.ipynb",
      "provenance": [],
      "collapsed_sections": [],
      "include_colab_link": true
    },
    "kernelspec": {
      "name": "python3",
      "display_name": "Python 3"
    }
  },
  "cells": [
    {
      "cell_type": "markdown",
      "metadata": {
        "id": "view-in-github",
        "colab_type": "text"
      },
      "source": [
        "<a href=\"https://colab.research.google.com/github/itochterman/LinearAlgebra/blob/master/Isabella_R_Tochterman_ComputationalProject1.ipynb\" target=\"_parent\"><img src=\"https://colab.research.google.com/assets/colab-badge.svg\" alt=\"Open In Colab\"/></a>"
      ]
    },
    {
      "cell_type": "markdown",
      "metadata": {
        "id": "vqXdyc6e2vbf",
        "colab_type": "text"
      },
      "source": [
        "# Computational Project 1: Modeling Population Dynamics\n",
        "\n",
        "In this project, our goals are \n",
        "+ to learn about an interesting application of linear algebra, and \n",
        "+ to learn to implement matrix computations in python.\n",
        "\n",
        "In particular, in this project, we will see how linear algebra plays a prominent role in modeling changes in population distributions over time.  The computational and writing/interpretation components of this project are equally important.\n",
        "\n",
        "Please refer to the [demonstration](https://colab.research.google.com/drive/1FYv1OqM6BNE3-nJZQLyeLPRmenq0n0am) and the [Matrix Computation with Python and Numpy References](https://colab.research.google.com/drive/1v8wblwqZsbvhWbVfatXlrTE20oJhc2Mu) jupyter notebooks for examples and references on doing matrix computation with python.\n",
        "\n",
        "This project will be automatically collected on Friday October 4 at 9am EST.\n",
        "\n",
        "\n",
        "(This project is adapted from https://users.wpi.edu/~goulet/ph/proj4.htm)"
      ]
    },
    {
      "cell_type": "markdown",
      "metadata": {
        "id": "HokoYt5JA7DA",
        "colab_type": "text"
      },
      "source": [
        "## Background\n",
        "\n",
        "Population modeling is useful from many different perspectives:\n",
        "1. planners at the city, state, and national level who look at human populations and need forecasts of populations in order to do planning for future needs. These future needs include housing, schools, care for the elderly, jobs, and utilities such as electricity,water and transportation.\n",
        "\n",
        "2. businesses do population planning so as to predict how the portions of the population that use their product will be changing.\n",
        "\n",
        "3. Ecologists use population models to study ecological systems, especially those where endangered species are involved so as to try to find measures that will restore the population.\n",
        "\n",
        "4. medical researchers treat microorganisms and viruses as populations and seek to understand the dynamics of their populations; especially why some thrive in certain environments but don't in others.   \n",
        "\n",
        "Using data about the current population along with the knowledge of quality of healthcare, life expectancy, birth rates, and so on, one can create a model that predicts how the population will change over time.\n",
        "\n",
        "For example, in Japan and Scandinavian countries, data shows that a large portion of the population is in an older age group and birth rates are low, which suggests that the size of their populations might shrink over time.  On the other hand, countries with a large birth rate might still suffer from shrinking populations if the quality of health care is very low (such that it significantly effects \"survival rates\" and decreases life expectancies).\n",
        "\n",
        "<b>We are going to work with a particular population model to predict how population distribution across age groups changes over time.</b>\n",
        "\n",
        "## Your Project\n",
        "\n",
        "Suppose we are studying the population dynamics of Los Angeles for the purpose of making a planning proposal to the city which will form the basis for predicting school, transportation, housing, water, and electrical needs for the years from 2000 on.\n",
        "\n",
        "\n",
        "### The Model\n",
        "\n",
        "1. First, we will consider seven age groups: 0-9 year olds, 10-19, 20-29, up to 60+.  It make sense to take intervals of 10 years as the census is taken every 10 years.\n",
        "\n",
        "<table>\n",
        "   <tr>\n",
        "     <th>Age Group</th>\n",
        "     <th>Ages (years) </th>\n",
        "  </tr>\n",
        "  <tr>\n",
        "    <td><b>Group 1</b></td>\n",
        "    <td>0-9<td>\n",
        "  </tr>\n",
        "  <tr>\n",
        "    <td><b>Group 2</b></td>\n",
        "    <td>10-19<td>\n",
        "  </tr>\n",
        "  <tr>\n",
        "    <td><b>Group 3</b></td>\n",
        "    <td>20-29<td>\n",
        "  </tr>\n",
        "  <tr>\n",
        "    <td><b>Group 4</b></td>\n",
        "    <td>30-39<td>\n",
        "  </tr>\n",
        "  <tr>\n",
        "    <td><b>Group 5</b></td>\n",
        "    <td>40-49<td>\n",
        "  </tr>\n",
        "  <tr>\n",
        "    <td><b>Group 6</b></td>\n",
        "    <td>50-59<td>\n",
        "  </tr>\n",
        "  <tr>\n",
        "    <td><b>Group 7</b></td>\n",
        "    <td>60+<td>\n",
        "  </tr>\n",
        "</table>\n",
        "\n",
        "2. We will consider **a unit of time to be 10 years** and time $t = 0$ to be the year 1990.  Thus, $t = 1$ will be the year 2000, etc.\n",
        "\n",
        "3. We will also incorporate our knowledge about birth rates, quality of health care, life expectancy, etc. to model how the current population distribution (i.e., how many people are in each age group today) influence the population distribution ten years from now into numbers which we will call \"survival fractions\".  <br> <br> The **survival fraction** of an age group is the fraction of people in an age group who will survive to the next age group ten years later.<br> <br> \n",
        "For example, the fraction of \"newborns\" (0-9) who survive to ages 10-19, the fraction of 10 to 19 year olds who survive to 20-29, etc. This type of data is compiled, for example, by actuaries working for insurance companies for life and medical insurance purposes.\n",
        "\n",
        "<b>Example</b>\n",
        "+ Suppose that there are initially 1000 newborns, 600 people aged 10-19, and 1000 people aged 20-29: $$\\vec x(0) = \\begin{bmatrix}x_1(0)\\\\ x_2(0) \\\\ x_{ 3}(0)\\end{bmatrix} = \\begin{bmatrix} 1000 \\\\ 600 \\\\ 1000\\end{bmatrix} $$\n",
        "\n",
        "+ Suppose that the survival fraction of newborns who survive to age 10 is 0.99 and the survival fraction of 10-19 year olds who survive to 20 is 0.95\n",
        "\n",
        "+ Then, 10 years later, at time $t= 1$, the number of people aged 10-19 would be:\n",
        "    $$x_2(1) = 0.99 \\times x_1(0) = 990$$\n",
        "   etc.\n",
        "\n",
        "<b>More generally</b>\n",
        "\n",
        "The basic equations we begin with are\n",
        "\\begin{equation}\n",
        "\\vec x(t+1) = A\\vec x(t), \\quad t=0,1,2, \\ldots  \\tag{1}\n",
        "\\end{equation}\n",
        "where \n",
        "  + $x(0)$ is a given vector of initial (at time $t = 0$) number of people within each age group, and $x(t)$ denotes the number of people within each age group at time $t$.\n",
        "  + Each vector $x(t)$ has 7 entries:\n",
        "  $$ x(t) = \\begin{bmatrix} x_1(t) \\\\ x_2(t) \\\\ \\vdots \\\\ x_7(t) \\end{bmatrix}$$\n",
        "  where $x_1(t)$ is the number of people in the first age group at time $t$, etc.\n",
        "  + $A$ is a matrix that helps us model how populations in the different age groups change.  Information such as survival fractions are stored as entries of this matrix. \n",
        "\n",
        "\n",
        "### The Data\n",
        "\n",
        "Suppose further that the population distribution as of 1990 in LA  is\n",
        "\n",
        "<table>\n",
        "   <tr>\n",
        "     <th>Age Group</th>\n",
        "     <th>Population of LA in 1990 ($\\times 10^{5}$)</th>\n",
        "  </tr>\n",
        "  <tr>\n",
        "    <td><b>Group 1</b></td>\n",
        "    <td>3.1<td>\n",
        "  </tr>\n",
        "  <tr>\n",
        "    <td><b>Group 2</b></td>\n",
        "    <td>2.8<td>\n",
        "  </tr>\n",
        "  <tr>\n",
        "    <td><b>Group 3</b></td>\n",
        "    <td>2.0<td>\n",
        "  </tr>\n",
        "  <tr>\n",
        "    <td><b>Group 4</b></td>\n",
        "    <td>2.5<td>\n",
        "  </tr>\n",
        "  <tr>\n",
        "    <td><b>Group 5</b></td>\n",
        "    <td>2.0<td>\n",
        "  </tr>\n",
        "  <tr>\n",
        "    <td><b>Group 6</b></td>\n",
        "    <td>1.8<td>\n",
        "  </tr>\n",
        "  <tr>\n",
        "    <td><b>Group 7</b></td>\n",
        "    <td>2.9<td>\n",
        "  </tr>\n",
        "</table>\n",
        "\n",
        "and that the $A$ for our  model is\n",
        "$$  A = \\begin{bmatrix} \n",
        "0 & 1.1 & 1.2 & 0.9 & 0.1 & 0 & 0 \\\\\n",
        "0.7 & 0 & 0 & 0 & 0 & 0 & 0\\\\\n",
        "0 & 0.82 & 0 & 0 & 0 & 0 & 0 \\\\\n",
        "0 & 0 & 0.97 & 0 & 0 & 0 & 0 \\\\\n",
        "0 & 0 & 0 & 0.97 & 0 & 0 & 0 \\\\\n",
        "0 & 0 & 0 & 0 & 0.90 & 0 & 0 \\\\\n",
        "0 & 0 & 0 & 0 & 0 & 0.87 & 0.5\n",
        "\\end{bmatrix}$$\n",
        "\n",
        "The numbers in this matrix comes from analysis of data; they incorporate information about the population, including birth rates, survival rates, etc."
      ]
    },
    {
      "cell_type": "markdown",
      "metadata": {
        "id": "gy22CsPdvsE0",
        "colab_type": "text"
      },
      "source": [
        ""
      ]
    },
    {
      "cell_type": "markdown",
      "metadata": {
        "id": "OXhial89Ob9R",
        "colab_type": "text"
      },
      "source": [
        "#### Part Zero: Setup\n",
        "\n",
        "We will need to use the packages numpy and scipy.  In the code cell below, please import them as np and sp, respectively."
      ]
    },
    {
      "cell_type": "code",
      "metadata": {
        "id": "SkzQi5auOaj4",
        "colab_type": "code",
        "colab": {
          "base_uri": "https://localhost:8080/",
          "height": 34
        },
        "outputId": "03965a4d-912c-49b3-ab38-298746e1c554"
      },
      "source": [
        "import numpy as np\n",
        "import scipy as sp\n",
        "\n",
        "\n",
        "\n"
      ],
      "execution_count": 6,
      "outputs": [
        {
          "output_type": "stream",
          "text": [
            "1.3068000000000002\n"
          ],
          "name": "stdout"
        }
      ]
    },
    {
      "cell_type": "markdown",
      "metadata": {
        "id": "dml2o8N_F20j",
        "colab_type": "text"
      },
      "source": [
        "#### Part One\n",
        "\n",
        "Interpret carefully each of the nonzero entries in the matrix $A$.  In particular, consider the linear equation that corresponds to each row of $A$ and explain why this equation makes sense.\n",
        "\n",
        "In addition, indicate what factors you think might change those numbers (they might be social, economical, political or environmental)."
      ]
    },
    {
      "cell_type": "markdown",
      "metadata": {
        "id": "0n3lj9nwL-xG",
        "colab_type": "text"
      },
      "source": [
        "\n",
        "\n",
        "```\n",
        "# This is formatted as code\n",
        "```\n",
        "In the first row, coefficients correspond to the percentage of each age group that will translate to births in the next ten years with 0-9 year olds not contributing at all (obviously). I.E the 2nd age group (10-19) will contribute 1.1 times itself to the group 1 in 10 years + 3rd group will contribute 1.2 times itself... + the 5th group will contribute 0.1 times itself. \n",
        "\n",
        "For all the rows between 1 and 7, each group will consist of a percentage of the previous group (due to death). I.E group 2 will consist of .7* group 1 due to heightened risk of death in early years. This percentage falls off for middle groups (group 4 retains 97% of group 3, ect.), and increases again for 60+ group (retains 87% of 6th group and loses half of previous 7th group).\n",
        "\n",
        "Factors that could change these numbers include increased access to public pediatric care (less early deaths), free birth control (less births in lower groups), access to clean food and water, emissions regulations (less deaths overall).\n",
        "\n",
        "\n",
        "\n",
        "\n"
      ]
    },
    {
      "cell_type": "markdown",
      "metadata": {
        "id": "jKmtrb57F4Ha",
        "colab_type": "text"
      },
      "source": [
        "#### Part Two\n",
        "\n",
        "Predict:\n",
        "\n",
        "+ what the population distribution will look like in 2020, 2030, and 2040.\n",
        "\n",
        "+ what the total population will be in each of those years\n",
        "\n",
        "+ by what fraction the total population changed each year"
      ]
    },
    {
      "cell_type": "code",
      "metadata": {
        "id": "RxMRQJftGDlY",
        "colab_type": "code",
        "colab": {
          "base_uri": "https://localhost:8080/",
          "height": 206
        },
        "outputId": "866260c1-78a7-47e9-b1ca-59d68cb3a42b"
      },
      "source": [
        "# Your code for Part Two\n",
        "#  (Among others, you will need to enter the matrix A and vector x_0 here, and \n",
        "#   use this matrix along with equation (1) above to compute the total populations)\n",
        "\n",
        "# From Data:\n",
        "A = np.array([[0, 1.1, 1.2, 0.9, 0.1, 0, 0],\n",
        "      [0.7, 0, 0, 0, 0, 0, 0],\n",
        "      [0, 0.82, 0, 0, 0, 0, 0],\n",
        "      [0, 0, 0.97, 0, 0, 0, 0],\n",
        "      [0, 0, 0, 0.97, 0, 0, 0],\n",
        "      [0, 0, 0, 0, 0.90, 0, 0],\n",
        "      [0, 0, 0, 0, 0, 0.87, 0.5],\n",
        "    ]) \n",
        "\n",
        "x_0 = np.array([3.1, 2.8, 2.0, 2.5, 2.0, 1.8, 2.9])\n",
        "\n",
        "\n",
        "\n",
        "\n",
        "\n",
        "# Compute population vectors in future years:\n",
        "\n",
        "x_1 = A.dot(x_0) #In 2000\n",
        "x_2 = A.dot(x_1) #In 2010 \n",
        "x_3 = A.dot(x_2) #In 2020 \n",
        "x_4 = A.dot(x_3) #In 2030 \n",
        "x_5 = A.dot(x_4) #In 2040 \n",
        "\n",
        "print(x_3)\n",
        "print(x_4)\n",
        "print(x_5)\n",
        "\n",
        "\n",
        "# Compute total population in each of the years 2020, 2030, 2040:\n",
        "total_pop_2020 = x_3.sum() * (10**5)\n",
        "total_pop_2030 = x_4.sum() * (10**5)\n",
        "total_pop_2040 = x_5.sum() * (10**5)\n",
        "\n",
        "print(total_pop_2020)\n",
        "print(total_pop_2030)\n",
        "print(total_pop_2040)\n",
        "\n",
        "\n",
        "\n",
        "...\n",
        "...\n",
        "\n",
        "# Fraction in which the total population change from each year to the next:\n",
        "# ratio of total_pop_2030 to total_pop_2020:\n",
        "\n",
        "r_30_to_20 = total_pop_2030/total_pop_2020\n",
        "\n",
        "print(r_30_to_20)\n",
        "...\n",
        "\n",
        "# ratio of total_pop_2040 to total_pop_2040: ## IS THIS A TYPO? \n",
        "\n",
        "r_40_to_30 = total_pop_2040/total_pop_2030\n",
        "...\n",
        "print(r_40_to_30)\n",
        "\n"
      ],
      "execution_count": 15,
      "outputs": [
        {
          "output_type": "stream",
          "text": [
            "[10.433968   4.99149    4.55182    1.726018   2.1603064  1.69362\n",
            "  3.435775 ]\n",
            "[12.72226984  7.3037776   4.0930218   4.4152654   1.67423746  1.94427576\n",
            "  3.1913369 ]\n",
            "[17.08694413  8.90558889  5.98909763  3.97023115  4.28280744  1.50681371\n",
            "  3.28718836]\n",
            "2899299.7399999998\n",
            "3534418.475999999\n",
            "4502867.13052\n",
            "1.2190593567259103\n",
            "1.2740050905392566\n"
          ],
          "name": "stdout"
        }
      ]
    },
    {
      "cell_type": "markdown",
      "metadata": {
        "id": "hmPJMTLwNGVg",
        "colab_type": "text"
      },
      "source": [
        "\n",
        "**2020:** \n",
        "\n",
        "Population distribution = [10.433968   4.99149    4.55182    1.726018   2.1603064  1.69362\n",
        "  3.435775 ]\n",
        "  \n",
        " Total pop: 2899299.7399999998\n",
        " \n",
        "**2030:**\n",
        "\n",
        "Population distribution: [12.72226984  7.3037776   4.0930218   4.4152654   1.67423746  1.94427576\n",
        "  3.1913369 ]\n",
        "  \n",
        "Total pop: 3534418.475999999\n",
        "  \n",
        "**2040:** \n",
        "\n",
        "Population distribution: [17.08694413  8.90558889  5.98909763  3.97023115  4.28280744  1.50681371\n",
        "  3.28718836]\n",
        "  \n",
        "Total pop: 4502867.13052\n",
        "\n",
        "\n",
        "\n"
      ]
    },
    {
      "cell_type": "markdown",
      "metadata": {
        "id": "nsOLOscFGDyo",
        "colab_type": "text"
      },
      "source": [
        "#### Part Three\n",
        "\n",
        "Decide if you believe that in the long run, the population is going to (1) zero, (2) becoming \"stable\" (i.e., reached a \"steady state\" where the population in the different age groups remain constant), or (3) is \"unstable\" (i.e., the population increases without bound)\n",
        "\n",
        "Be sure and describe in your write up how you arrived at your conclusion.\n",
        "\n",
        "Simulate it long enough; determine whether, in the long run, the column matrices for two successive populations become proportional to one another. If so, calculate that proportionality factor to one decimal place and report it."
      ]
    },
    {
      "cell_type": "code",
      "metadata": {
        "id": "8rmBq5m2GUPZ",
        "colab_type": "code",
        "colab": {
          "base_uri": "https://localhost:8080/",
          "height": 891
        },
        "outputId": "e46162d7-6961-4f8f-9ce2-dbd89d3a6afe"
      },
      "source": [
        "# Your code for Part Three, if any\n",
        "#   You may want to compute population distributions for additional years, etc.\n",
        "#   in order to see a pattern that would help you answer the question in part 3\n",
        "\n",
        "\n",
        "x_curr = x_0\n",
        "\n",
        "for x in range(50):\n",
        "  \n",
        "  x_prev_sum = x_curr.sum()\n",
        "  x_curr = A.dot(x_curr)\n",
        "  x_next_sum = x_curr.sum()\n",
        "  \n",
        "  prop_pop = x_next_sum/x_prev_sum\n",
        "  print(prop_pop)\n",
        "  \n",
        "\n",
        "..."
      ],
      "execution_count": 21,
      "outputs": [
        {
          "output_type": "stream",
          "text": [
            "1.2618128654970757\n",
            "1.104255457199796\n",
            "1.2168372636876892\n",
            "1.2190593567259105\n",
            "1.2740050905392566\n",
            "1.2595884702653912\n",
            "1.2878912229788897\n",
            "1.2741546862456525\n",
            "1.2822199672998833\n",
            "1.2787920018978491\n",
            "1.281400958094026\n",
            "1.2796349342553077\n",
            "1.2807566612611347\n",
            "1.2801653233395216\n",
            "1.280504179745684\n",
            "1.2802901476446646\n",
            "1.2804304359744565\n",
            "1.2803460029761418\n",
            "1.2803946023690898\n",
            "1.2803660178446246\n",
            "1.2803837897513186\n",
            "1.2803727137672059\n",
            "1.2803793950960054\n",
            "1.2803754490491455\n",
            "1.2803778142101772\n",
            "1.2803763657184084\n",
            "1.2803772531145747\n",
            "1.2803767178075787\n",
            "1.280377038265573\n",
            "1.2803768450506434\n",
            "1.28037696261727\n",
            "1.2803768911376892\n",
            "1.280376934301019\n",
            "1.2803769083105878\n",
            "1.2803769240158325\n",
            "1.2803769144899344\n",
            "1.2803769202637978\n",
            "1.2803769167746868\n",
            "1.2803769188810565\n",
            "1.280376917607306\n",
            "1.2803769183787406\n",
            "1.2803769179117424\n",
            "1.2803769181940734\n",
            "1.28037691802344\n",
            "1.2803769181266478\n",
            "1.2803769180641846\n",
            "1.280376918101978\n",
            "1.2803769180791238\n",
            "1.280376918092943\n",
            "1.2803769180845843\n"
          ],
          "name": "stdout"
        },
        {
          "output_type": "execute_result",
          "data": {
            "text/plain": [
              "Ellipsis"
            ]
          },
          "metadata": {
            "tags": []
          },
          "execution_count": 21
        }
      ]
    },
    {
      "cell_type": "markdown",
      "metadata": {
        "id": "Dy-f2WRxPLz2",
        "colab_type": "text"
      },
      "source": [
        "\n",
        "The population distribution takes many iterations to reflect the pattern of population growth established by the matrix because we are essentially starting with a random set of numbers. \n",
        "\n",
        "The population moves towards stability with a proportionality factor of 1.3."
      ]
    },
    {
      "cell_type": "markdown",
      "metadata": {
        "id": "HYiU7KHHGUaH",
        "colab_type": "text"
      },
      "source": [
        "#### Part Four\n",
        "\n",
        "How does the basic model change if immigration is introduced? Suppose we assume that a constant number of immigrants are added to each age group during each time interval. What will equation (1) now look like?\n",
        "\n",
        "What will the solution, (2) now look like?\n",
        "\n",
        "How do your predictions change for 2020, 2030, and 2040 change if there are 20,000 people entering each age group during each 10 year period? How much will the total population have changed in 2040 as compared to the prior no immigration prediction?\n",
        "\n"
      ]
    },
    {
      "cell_type": "code",
      "metadata": {
        "id": "04IGzSVd8sbF",
        "colab_type": "code",
        "colab": {}
      },
      "source": [
        "# Your code for Part Four\n",
        "\n",
        "# new matrix that incorporates immigration\n",
        "A_imm = ...\n",
        "\n",
        "# new initial vector \n",
        "x_0_imm = ...\n",
        "\n",
        "\n",
        "# Prediction for 2020, 2030, 2040\n",
        "...\n",
        "..."
      ],
      "execution_count": 0,
      "outputs": []
    },
    {
      "cell_type": "markdown",
      "metadata": {
        "id": "VX_mrcuUPZFt",
        "colab_type": "text"
      },
      "source": [
        "\n",
        "[ YOUR ANSWER FOR PART FOUR.  Double click this text to edit.  Type here the answer of the above questions,explaining how the basic model changes and explaining the results which you obtain by doing the computation in the above code cell.]"
      ]
    },
    {
      "cell_type": "markdown",
      "metadata": {
        "id": "Elp8eY7oVrY_",
        "colab_type": "text"
      },
      "source": [
        "## Reflections\n",
        "\n",
        "Please briefly write:\n",
        "1. One new thing that you learn from this project\n",
        "2. One aspect of this project that you found most interesting OR most challenging OR both.\n",
        "3. If you discuss any part of the project with anyone ( classmate(s), tutor(s), etc.), please ackowledge them here."
      ]
    },
    {
      "cell_type": "markdown",
      "metadata": {
        "id": "7XbFgYjRWL3v",
        "colab_type": "text"
      },
      "source": [
        "[ YOUR ANSWER HERE.  Double click this text to edit]"
      ]
    }
  ]
}